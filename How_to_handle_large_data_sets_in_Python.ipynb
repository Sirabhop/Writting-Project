{
  "nbformat": 4,
  "nbformat_minor": 0,
  "metadata": {
    "colab": {
      "name": "How to handle large data sets in Python",
      "provenance": [],
      "collapsed_sections": [],
      "mount_file_id": "1NkVAJkUacefNNMuLh6A1FIgHrm1POH4I",
      "authorship_tag": "ABX9TyPKYqLD8qUjWXL/bdCXhFtT",
      "include_colab_link": true
    },
    "kernelspec": {
      "name": "python3",
      "display_name": "Python 3"
    },
    "language_info": {
      "name": "python"
    }
  },
  "cells": [
    {
      "cell_type": "markdown",
      "metadata": {
        "id": "view-in-github",
        "colab_type": "text"
      },
      "source": [
        "<a href=\"https://colab.research.google.com/github/Sirabhop/Writting-Project/blob/main/How_to_handle_large_data_sets_in_Python.ipynb\" target=\"_parent\"><img src=\"https://colab.research.google.com/assets/colab-badge.svg\" alt=\"Open In Colab\"/></a>"
      ]
    },
    {
      "cell_type": "code",
      "execution_count": null,
      "metadata": {
        "id": "qSm-TGdbx8pP"
      },
      "outputs": [],
      "source": [
        "import os\n",
        "os.chdir(\"/content/drive/MyDrive/My Project/Kaggle/Challenge#3\")"
      ]
    },
    {
      "cell_type": "code",
      "source": [
        "import pandas as pd"
      ],
      "metadata": {
        "id": "rBclJktUOPF6"
      },
      "execution_count": null,
      "outputs": []
    },
    {
      "cell_type": "code",
      "source": [
        "from resource import getrusage, RUSAGE_SELF"
      ],
      "metadata": {
        "id": "Siq-2je6SZFs"
      },
      "execution_count": null,
      "outputs": []
    },
    {
      "cell_type": "code",
      "source": [
        "df = pd.read_csv('train.csv', header = 0)\n",
        "print('RAM: ', int(getrusage(RUSAGE_SELF).ru_maxrss)/1024)"
      ],
      "metadata": {
        "id": "ABnnfGXXyiwH",
        "colab": {
          "base_uri": "https://localhost:8080/"
        },
        "outputId": "dc9cfe53-77a4-474f-eb73-4e86fcd8c076"
      },
      "execution_count": null,
      "outputs": [
        {
          "output_type": "stream",
          "name": "stderr",
          "text": [
            "/usr/local/lib/python3.7/dist-packages/IPython/core/interactiveshell.py:2882: DtypeWarning: Columns (8,9,10,11,12,43,157,196,214,225,228,229,231,235,238) have mixed types.Specify dtype option on import or set low_memory=False.\n",
            "  exec(code_obj, self.user_global_ns, self.user_ns)\n"
          ]
        },
        {
          "output_type": "stream",
          "name": "stdout",
          "text": [
            "RAM:  10720.0625\n"
          ]
        }
      ]
    },
    {
      "cell_type": "code",
      "source": [
        "df.head(5)"
      ],
      "metadata": {
        "colab": {
          "base_uri": "https://localhost:8080/",
          "height": 297
        },
        "id": "oyf9cU3dWqYH",
        "outputId": "829fc606-2121-4953-faf0-8df1b3b53569"
      },
      "execution_count": null,
      "outputs": [
        {
          "output_type": "execute_result",
          "data": {
            "text/html": [
              "\n",
              "  <div id=\"df-dcf36292-1423-4186-8639-cc983ac2101d\">\n",
              "    <div class=\"colab-df-container\">\n",
              "      <div>\n",
              "<style scoped>\n",
              "    .dataframe tbody tr th:only-of-type {\n",
              "        vertical-align: middle;\n",
              "    }\n",
              "\n",
              "    .dataframe tbody tr th {\n",
              "        vertical-align: top;\n",
              "    }\n",
              "\n",
              "    .dataframe thead th {\n",
              "        text-align: right;\n",
              "    }\n",
              "</style>\n",
              "<table border=\"1\" class=\"dataframe\">\n",
              "  <thead>\n",
              "    <tr style=\"text-align: right;\">\n",
              "      <th></th>\n",
              "      <th>ID</th>\n",
              "      <th>VAR_0001</th>\n",
              "      <th>VAR_0002</th>\n",
              "      <th>VAR_0003</th>\n",
              "      <th>VAR_0004</th>\n",
              "      <th>VAR_0005</th>\n",
              "      <th>VAR_0006</th>\n",
              "      <th>VAR_0007</th>\n",
              "      <th>VAR_0008</th>\n",
              "      <th>VAR_0009</th>\n",
              "      <th>...</th>\n",
              "      <th>VAR_1926</th>\n",
              "      <th>VAR_1927</th>\n",
              "      <th>VAR_1928</th>\n",
              "      <th>VAR_1929</th>\n",
              "      <th>VAR_1930</th>\n",
              "      <th>VAR_1931</th>\n",
              "      <th>VAR_1932</th>\n",
              "      <th>VAR_1933</th>\n",
              "      <th>VAR_1934</th>\n",
              "      <th>target</th>\n",
              "    </tr>\n",
              "  </thead>\n",
              "  <tbody>\n",
              "    <tr>\n",
              "      <th>0</th>\n",
              "      <td>2</td>\n",
              "      <td>H</td>\n",
              "      <td>224</td>\n",
              "      <td>0</td>\n",
              "      <td>4300</td>\n",
              "      <td>C</td>\n",
              "      <td>0.0</td>\n",
              "      <td>0.0</td>\n",
              "      <td>False</td>\n",
              "      <td>False</td>\n",
              "      <td>...</td>\n",
              "      <td>98</td>\n",
              "      <td>98</td>\n",
              "      <td>998</td>\n",
              "      <td>999999998</td>\n",
              "      <td>998</td>\n",
              "      <td>998</td>\n",
              "      <td>9998</td>\n",
              "      <td>9998</td>\n",
              "      <td>IAPS</td>\n",
              "      <td>0</td>\n",
              "    </tr>\n",
              "    <tr>\n",
              "      <th>1</th>\n",
              "      <td>4</td>\n",
              "      <td>H</td>\n",
              "      <td>7</td>\n",
              "      <td>53</td>\n",
              "      <td>4448</td>\n",
              "      <td>B</td>\n",
              "      <td>1.0</td>\n",
              "      <td>0.0</td>\n",
              "      <td>False</td>\n",
              "      <td>False</td>\n",
              "      <td>...</td>\n",
              "      <td>98</td>\n",
              "      <td>98</td>\n",
              "      <td>998</td>\n",
              "      <td>999999998</td>\n",
              "      <td>998</td>\n",
              "      <td>998</td>\n",
              "      <td>9998</td>\n",
              "      <td>9998</td>\n",
              "      <td>IAPS</td>\n",
              "      <td>0</td>\n",
              "    </tr>\n",
              "    <tr>\n",
              "      <th>2</th>\n",
              "      <td>5</td>\n",
              "      <td>H</td>\n",
              "      <td>116</td>\n",
              "      <td>3</td>\n",
              "      <td>3464</td>\n",
              "      <td>C</td>\n",
              "      <td>0.0</td>\n",
              "      <td>0.0</td>\n",
              "      <td>False</td>\n",
              "      <td>False</td>\n",
              "      <td>...</td>\n",
              "      <td>98</td>\n",
              "      <td>98</td>\n",
              "      <td>998</td>\n",
              "      <td>999999998</td>\n",
              "      <td>998</td>\n",
              "      <td>998</td>\n",
              "      <td>9998</td>\n",
              "      <td>9998</td>\n",
              "      <td>IAPS</td>\n",
              "      <td>0</td>\n",
              "    </tr>\n",
              "    <tr>\n",
              "      <th>3</th>\n",
              "      <td>7</td>\n",
              "      <td>H</td>\n",
              "      <td>240</td>\n",
              "      <td>300</td>\n",
              "      <td>3200</td>\n",
              "      <td>C</td>\n",
              "      <td>0.0</td>\n",
              "      <td>0.0</td>\n",
              "      <td>False</td>\n",
              "      <td>False</td>\n",
              "      <td>...</td>\n",
              "      <td>98</td>\n",
              "      <td>98</td>\n",
              "      <td>998</td>\n",
              "      <td>999999998</td>\n",
              "      <td>998</td>\n",
              "      <td>998</td>\n",
              "      <td>9998</td>\n",
              "      <td>9998</td>\n",
              "      <td>RCC</td>\n",
              "      <td>0</td>\n",
              "    </tr>\n",
              "    <tr>\n",
              "      <th>4</th>\n",
              "      <td>8</td>\n",
              "      <td>R</td>\n",
              "      <td>72</td>\n",
              "      <td>261</td>\n",
              "      <td>2000</td>\n",
              "      <td>N</td>\n",
              "      <td>0.0</td>\n",
              "      <td>0.0</td>\n",
              "      <td>False</td>\n",
              "      <td>False</td>\n",
              "      <td>...</td>\n",
              "      <td>98</td>\n",
              "      <td>98</td>\n",
              "      <td>998</td>\n",
              "      <td>999999998</td>\n",
              "      <td>998</td>\n",
              "      <td>998</td>\n",
              "      <td>9998</td>\n",
              "      <td>9998</td>\n",
              "      <td>BRANCH</td>\n",
              "      <td>1</td>\n",
              "    </tr>\n",
              "  </tbody>\n",
              "</table>\n",
              "<p>5 rows × 1934 columns</p>\n",
              "</div>\n",
              "      <button class=\"colab-df-convert\" onclick=\"convertToInteractive('df-dcf36292-1423-4186-8639-cc983ac2101d')\"\n",
              "              title=\"Convert this dataframe to an interactive table.\"\n",
              "              style=\"display:none;\">\n",
              "        \n",
              "  <svg xmlns=\"http://www.w3.org/2000/svg\" height=\"24px\"viewBox=\"0 0 24 24\"\n",
              "       width=\"24px\">\n",
              "    <path d=\"M0 0h24v24H0V0z\" fill=\"none\"/>\n",
              "    <path d=\"M18.56 5.44l.94 2.06.94-2.06 2.06-.94-2.06-.94-.94-2.06-.94 2.06-2.06.94zm-11 1L8.5 8.5l.94-2.06 2.06-.94-2.06-.94L8.5 2.5l-.94 2.06-2.06.94zm10 10l.94 2.06.94-2.06 2.06-.94-2.06-.94-.94-2.06-.94 2.06-2.06.94z\"/><path d=\"M17.41 7.96l-1.37-1.37c-.4-.4-.92-.59-1.43-.59-.52 0-1.04.2-1.43.59L10.3 9.45l-7.72 7.72c-.78.78-.78 2.05 0 2.83L4 21.41c.39.39.9.59 1.41.59.51 0 1.02-.2 1.41-.59l7.78-7.78 2.81-2.81c.8-.78.8-2.07 0-2.86zM5.41 20L4 18.59l7.72-7.72 1.47 1.35L5.41 20z\"/>\n",
              "  </svg>\n",
              "      </button>\n",
              "      \n",
              "  <style>\n",
              "    .colab-df-container {\n",
              "      display:flex;\n",
              "      flex-wrap:wrap;\n",
              "      gap: 12px;\n",
              "    }\n",
              "\n",
              "    .colab-df-convert {\n",
              "      background-color: #E8F0FE;\n",
              "      border: none;\n",
              "      border-radius: 50%;\n",
              "      cursor: pointer;\n",
              "      display: none;\n",
              "      fill: #1967D2;\n",
              "      height: 32px;\n",
              "      padding: 0 0 0 0;\n",
              "      width: 32px;\n",
              "    }\n",
              "\n",
              "    .colab-df-convert:hover {\n",
              "      background-color: #E2EBFA;\n",
              "      box-shadow: 0px 1px 2px rgba(60, 64, 67, 0.3), 0px 1px 3px 1px rgba(60, 64, 67, 0.15);\n",
              "      fill: #174EA6;\n",
              "    }\n",
              "\n",
              "    [theme=dark] .colab-df-convert {\n",
              "      background-color: #3B4455;\n",
              "      fill: #D2E3FC;\n",
              "    }\n",
              "\n",
              "    [theme=dark] .colab-df-convert:hover {\n",
              "      background-color: #434B5C;\n",
              "      box-shadow: 0px 1px 3px 1px rgba(0, 0, 0, 0.15);\n",
              "      filter: drop-shadow(0px 1px 2px rgba(0, 0, 0, 0.3));\n",
              "      fill: #FFFFFF;\n",
              "    }\n",
              "  </style>\n",
              "\n",
              "      <script>\n",
              "        const buttonEl =\n",
              "          document.querySelector('#df-dcf36292-1423-4186-8639-cc983ac2101d button.colab-df-convert');\n",
              "        buttonEl.style.display =\n",
              "          google.colab.kernel.accessAllowed ? 'block' : 'none';\n",
              "\n",
              "        async function convertToInteractive(key) {\n",
              "          const element = document.querySelector('#df-dcf36292-1423-4186-8639-cc983ac2101d');\n",
              "          const dataTable =\n",
              "            await google.colab.kernel.invokeFunction('convertToInteractive',\n",
              "                                                     [key], {});\n",
              "          if (!dataTable) return;\n",
              "\n",
              "          const docLinkHtml = 'Like what you see? Visit the ' +\n",
              "            '<a target=\"_blank\" href=https://colab.research.google.com/notebooks/data_table.ipynb>data table notebook</a>'\n",
              "            + ' to learn more about interactive tables.';\n",
              "          element.innerHTML = '';\n",
              "          dataTable['output_type'] = 'display_data';\n",
              "          await google.colab.output.renderOutput(dataTable, element);\n",
              "          const docLink = document.createElement('div');\n",
              "          docLink.innerHTML = docLinkHtml;\n",
              "          element.appendChild(docLink);\n",
              "        }\n",
              "      </script>\n",
              "    </div>\n",
              "  </div>\n",
              "  "
            ],
            "text/plain": [
              "   ID VAR_0001  VAR_0002  VAR_0003  VAR_0004 VAR_0005  VAR_0006  VAR_0007  \\\n",
              "0   2        H       224         0      4300        C       0.0       0.0   \n",
              "1   4        H         7        53      4448        B       1.0       0.0   \n",
              "2   5        H       116         3      3464        C       0.0       0.0   \n",
              "3   7        H       240       300      3200        C       0.0       0.0   \n",
              "4   8        R        72       261      2000        N       0.0       0.0   \n",
              "\n",
              "  VAR_0008 VAR_0009  ... VAR_1926 VAR_1927 VAR_1928   VAR_1929  VAR_1930  \\\n",
              "0    False    False  ...       98       98      998  999999998       998   \n",
              "1    False    False  ...       98       98      998  999999998       998   \n",
              "2    False    False  ...       98       98      998  999999998       998   \n",
              "3    False    False  ...       98       98      998  999999998       998   \n",
              "4    False    False  ...       98       98      998  999999998       998   \n",
              "\n",
              "   VAR_1931  VAR_1932  VAR_1933  VAR_1934  target  \n",
              "0       998      9998      9998      IAPS       0  \n",
              "1       998      9998      9998      IAPS       0  \n",
              "2       998      9998      9998      IAPS       0  \n",
              "3       998      9998      9998       RCC       0  \n",
              "4       998      9998      9998    BRANCH       1  \n",
              "\n",
              "[5 rows x 1934 columns]"
            ]
          },
          "metadata": {},
          "execution_count": 15
        }
      ]
    },
    {
      "cell_type": "markdown",
      "source": [
        "1) Specify data type for each features"
      ],
      "metadata": {
        "id": "iQ2p1uxbPwHr"
      }
    },
    {
      "cell_type": "code",
      "source": [
        "df.shape"
      ],
      "metadata": {
        "colab": {
          "base_uri": "https://localhost:8080/"
        },
        "id": "CbRIIJQhTUa-",
        "outputId": "97425ec6-aa0f-45ee-892f-cd970a602249"
      },
      "execution_count": null,
      "outputs": [
        {
          "output_type": "execute_result",
          "data": {
            "text/plain": [
              "(145231, 1934)"
            ]
          },
          "metadata": {},
          "execution_count": 12
        }
      ]
    },
    {
      "cell_type": "code",
      "source": [
        "#But there are 1934 features!!!, it's impractical in this case to go this way."
      ],
      "metadata": {
        "id": "v2et_-xkOYjE"
      },
      "execution_count": null,
      "outputs": []
    },
    {
      "cell_type": "markdown",
      "source": [
        "2) Use chunking"
      ],
      "metadata": {
        "id": "5AYbMC07QIf7"
      }
    },
    {
      "cell_type": "code",
      "source": [
        "df_chunked = pd.read_csv('train.csv', chunksize = 10000)\n",
        "print('RAM: ', int(getrusage(RUSAGE_SELF).ru_maxrss)/1024)"
      ],
      "metadata": {
        "id": "L8vUnD7qO0OL",
        "colab": {
          "base_uri": "https://localhost:8080/"
        },
        "outputId": "974abae0-8dfe-4aaa-920e-604710483cd7"
      },
      "execution_count": null,
      "outputs": [
        {
          "output_type": "stream",
          "name": "stdout",
          "text": [
            "RAM:  10720.0625\n"
          ]
        }
      ]
    },
    {
      "cell_type": "code",
      "source": [
        "df_filtered = pd.DataFrame()\n",
        "for df_ in df_chunked:\n",
        "  df_ = df[df['ID'] > 1000]\n",
        "  df_filtered = pd.concat([df_filtered, df_])\n",
        "\n",
        "print('RAM: ', int(getrusage(RUSAGE_SELF).ru_maxrss)/1024)\n",
        "#Session crash!!"
      ],
      "metadata": {
        "id": "a_lENmqnQVcC",
        "colab": {
          "base_uri": "https://localhost:8080/"
        },
        "outputId": "ba44c05b-db00-4417-c661-b38dc1033ac0"
      },
      "execution_count": null,
      "outputs": [
        {
          "output_type": "stream",
          "name": "stderr",
          "text": [
            "/usr/local/lib/python3.7/dist-packages/IPython/core/interactiveshell.py:2822: DtypeWarning: Columns (8,9,10,11,12,43,157,196,225,228,229,231,235,238) have mixed types.Specify dtype option on import or set low_memory=False.\n",
            "  if self.run_code(code, result):\n",
            "/usr/local/lib/python3.7/dist-packages/IPython/core/interactiveshell.py:2822: DtypeWarning: Columns (8,9,10,11,12,43,196,225,228,229,231,235,238) have mixed types.Specify dtype option on import or set low_memory=False.\n",
            "  if self.run_code(code, result):\n"
          ]
        }
      ]
    },
    {
      "cell_type": "markdown",
      "source": [
        "3) Use SQL-Python"
      ],
      "metadata": {
        "id": "WPMHB0gxYTzt"
      }
    },
    {
      "cell_type": "code",
      "source": [
        "!pip install mysqlclient"
      ],
      "metadata": {
        "id": "yW7SAXl0GdHf"
      },
      "execution_count": null,
      "outputs": []
    },
    {
      "cell_type": "code",
      "source": [
        "import sqlalchemy as db"
      ],
      "metadata": {
        "id": "PAC1DFGfYWqV"
      },
      "execution_count": null,
      "outputs": []
    },
    {
      "cell_type": "code",
      "source": [
        "engine = db.create_engine(\"sqlite:////content/drive/MyDrive/My Project/Kaggle/Challenge#3/train.csv\")\n",
        "print(engine.execute('''SELECT * FROM train'''))"
      ],
      "metadata": {
        "id": "hnWv2wr-E-wV"
      },
      "execution_count": null,
      "outputs": []
    }
  ]
}